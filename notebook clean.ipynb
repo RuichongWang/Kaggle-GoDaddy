{
 "cells": [
  {
   "cell_type": "markdown",
   "id": "51b2c93b",
   "metadata": {},
   "source": [
    "# GoDaddy - Microbusiness Density Forecasting"
   ]
  },
  {
   "cell_type": "code",
   "execution_count": 1,
   "id": "2af49175",
   "metadata": {
    "_cell_guid": "b1076dfc-b9ad-4769-8c92-a6c4dae69d19",
    "_uuid": "8f2839f25d086af736a60e9eeb907d3b93b6e0e5",
    "execution": {
     "iopub.execute_input": "2023-03-12T23:43:33.796374Z",
     "iopub.status.busy": "2023-03-12T23:43:33.795904Z",
     "iopub.status.idle": "2023-03-12T23:43:33.927536Z",
     "shell.execute_reply": "2023-03-12T23:43:33.926077Z"
    },
    "papermill": {
     "duration": 0.146086,
     "end_time": "2023-03-12T23:43:33.930469",
     "exception": false,
     "start_time": "2023-03-12T23:43:33.784383",
     "status": "completed"
    },
    "tags": []
   },
   "outputs": [],
   "source": [
    "from sklearn.linear_model import LinearRegression\n",
    "import numpy as np\n",
    "import pandas as pd\n",
    "import os\n",
    "from tqdm.notebook import tqdm\n",
    "from sklearn.ensemble import VotingRegressor\n",
    "import lightgbm as lgb\n",
    "import xgboost as xgb\n",
    "import catboost as cat\n",
    "from sklearn.pipeline import Pipeline\n",
    "from sklearn.neighbors import KNeighborsRegressor\n",
    "from sklearn.impute import KNNImputer    \n",
    "from sklearn.ensemble import VotingRegressor\n",
    "import lightgbm as lgb\n",
    "import xgboost as xgb\n",
    "import catboost as cat\n",
    "from sklearn.pipeline import Pipeline\n",
    "from sklearn.neighbors import KNeighborsRegressor\n",
    "from sklearn.impute import KNNImputer   \n",
    "from sklearn.ensemble import RandomForestRegressor\n",
    "import warnings\n",
    "warnings.filterwarnings('ignore')\n",
    "\n",
    "BASE = 'data/'\n",
    "os.environ[\"CUDA_VISIBLE_DEVICES\"]=\"0\"\n",
    "\n",
    "ACT_THR = 150       # lastactive threshold for training\n",
    "MONTH_1 = 39        # Nov and Dec of 2022\n",
    "MONTH_last = 40     # Nov and Dec of 2022\n",
    "\n",
    "IS_DEBUG = True     # use toy data for debugging\n"
   ]
  },
  {
   "cell_type": "markdown",
   "id": "30dcdc49",
   "metadata": {},
   "source": [
    "# Load Data"
   ]
  },
  {
   "cell_type": "code",
   "execution_count": 2,
   "id": "9b3adc7a",
   "metadata": {},
   "outputs": [],
   "source": [
    "# competition dataset\n",
    "census = pd.read_csv(BASE + 'godaddy-microbusiness-density-forecasting/census_starter.csv')\n",
    "train = pd.read_csv(BASE + 'godaddy-microbusiness-density-forecasting/train.csv')\n",
    "reaveal_test = pd.read_csv(BASE + 'godaddy-microbusiness-density-forecasting/revealed_test.csv')\n",
    "train = pd.concat([train, reaveal_test]).sort_values(by=['cfips','first_day_of_month']).reset_index()\n",
    "test = pd.read_csv(BASE + 'godaddy-microbusiness-density-forecasting/test.csv')\n",
    "sub = pd.read_csv(BASE + 'godaddy-microbusiness-density-forecasting/sample_submission.csv')\n",
    "\n",
    "# external dataset\n",
    "# lng and lat\n",
    "coords = pd.read_csv(BASE + \"cfips_location.csv\")\n",
    "# CPI\n",
    "cpi= pd.read_csv(BASE + 'go-daddy-cpi/go_daddy_cpi - Sheet1.csv')\n",
    "\n",
    "# CO-EST2021-ALLDATA: \n",
    "# Annual Resident Population Estimates, Estimated Components of Resident Population Change, \n",
    "# and Rates of the Components of Resident Population Change for States and Counties:\n",
    "# https://www2.census.gov/programs-surveys/popest/technical-documentation/file-layouts/2020-2021/CO-EST2021-ALLDATA.pdf\n",
    "co_est = pd.read_csv(BASE + \"/us-indicator/co-est2021-alldata.csv\", encoding='latin-1')\n",
    "co_est[\"cfips\"] = co_est.STATE*1000 + co_est.COUNTY\n",
    "co_columns = ['SUMLEV','DIVISION','ESTIMATESBASE2020','POPESTIMATE2020','POPESTIMATE2021',\n",
    "              'NPOPCHG2020','NPOPCHG2021','BIRTHS2020','BIRTHS2021','DEATHS2020','DEATHS2021',\n",
    "              'NATURALCHG2020','NATURALCHG2021','INTERNATIONALMIG2020','INTERNATIONALMIG2021',\n",
    "              'DOMESTICMIG2020','DOMESTICMIG2021','NETMIG2020','NETMIG2021','RESIDUAL2020',\n",
    "              'RESIDUAL2021','GQESTIMATESBASE2020','GQESTIMATES2020','GQESTIMATES2021',\n",
    "              'RBIRTH2021','RDEATH2021','RNATURALCHG2021','RINTERNATIONALMIG2021','RDOMESTICMIG2021','RNETMIG2021']"
   ]
  },
  {
   "cell_type": "markdown",
   "id": "04b6cf29",
   "metadata": {},
   "source": [
    "# Preprocess"
   ]
  },
  {
   "cell_type": "code",
   "execution_count": 3,
   "id": "e570299e",
   "metadata": {
    "execution": {
     "iopub.execute_input": "2023-03-12T23:43:33.949547Z",
     "iopub.status.busy": "2023-03-12T23:43:33.948718Z",
     "iopub.status.idle": "2023-03-12T23:43:35.011195Z",
     "shell.execute_reply": "2023-03-12T23:43:35.010028Z"
    },
    "papermill": {
     "duration": 1.074733,
     "end_time": "2023-03-12T23:43:35.013887",
     "exception": false,
     "start_time": "2023-03-12T23:43:33.939154",
     "status": "completed"
    },
    "tags": []
   },
   "outputs": [
    {
     "data": {
      "text/plain": [
       "(47, 71)"
      ]
     },
     "execution_count": 3,
     "metadata": {},
     "output_type": "execute_result"
    }
   ],
   "source": [
    "# label holdout set (not initially available)\n",
    "drop_index = (test.first_day_of_month == '2022-11-01') | (test.first_day_of_month == '2022-12-01')\n",
    "test = test.loc[~drop_index,:]\n",
    "\n",
    "train['istest'] = 0\n",
    "test['istest'] = 1\n",
    "\n",
    "# concat data for better FE\n",
    "raw = pd.concat((train, test)).sort_values(['cfips','row_id']).reset_index(drop=True)\n",
    "raw = raw.merge(coords.drop(\"name\", axis=1), on=\"cfips\")\n",
    "raw = raw.merge(census, on=\"cfips\", how=\"left\")\n",
    "raw = raw.merge(co_est, on=\"cfips\", how=\"left\")\n",
    "\n",
    "if IS_DEBUG: # use only partial data for faster debugging \n",
    "    raw = raw.query('cfips == 1001')\n",
    "\n",
    "raw.shape"
   ]
  },
  {
   "cell_type": "markdown",
   "id": "e0701b38",
   "metadata": {},
   "source": [
    "## remove anomaly\n"
   ]
  },
  {
   "cell_type": "code",
   "execution_count": 4,
   "id": "63b01201",
   "metadata": {
    "execution": {
     "iopub.execute_input": "2023-03-12T23:43:35.048352Z",
     "iopub.status.busy": "2023-03-12T23:43:35.047949Z",
     "iopub.status.idle": "2023-03-12T23:43:42.265645Z",
     "shell.execute_reply": "2023-03-12T23:43:42.264551Z"
    },
    "papermill": {
     "duration": 7.229987,
     "end_time": "2023-03-12T23:43:42.268141",
     "exception": false,
     "start_time": "2023-03-12T23:43:35.038154",
     "status": "completed"
    },
    "scrolled": true,
    "tags": []
   },
   "outputs": [
    {
     "data": {
      "application/vnd.jupyter.widget-view+json": {
       "model_id": "160c2f2e8479484689d49cf37b1892d9",
       "version_major": 2,
       "version_minor": 0
      },
      "text/plain": [
       "  0%|          | 0/1 [00:00<?, ?it/s]"
      ]
     },
     "metadata": {},
     "output_type": "display_data"
    }
   ],
   "source": [
    "for cfip in tqdm(raw.cfips.unique()): \n",
    "    indices = (raw['cfips'] == cfip) \n",
    "    \n",
    "    tmp = raw.loc[indices].copy().reset_index(drop=True)\n",
    "    val = tmp.microbusiness_density.values.copy()\n",
    "    \n",
    "    for i in range(37, 2, -1): # only in training set \n",
    "        thr = 0.10 * np.mean(val[:i]) # use 10% of rolling avg as threshold\n",
    "        \n",
    "        val_diff = val[i] - val[i - 1] \n",
    "        if (val_diff >= thr) or (val_diff <= -thr):              \n",
    "            if val_diff > 0:\n",
    "                val[:i] += val_diff - 0.003 \n",
    "            else:\n",
    "                val[:i] += val_diff + 0.003  \n",
    "\n",
    "    val[0] = val[1] * 0.99 # smooth\n",
    "    raw.loc[indices, 'microbusiness_density'] = val"
   ]
  },
  {
   "cell_type": "markdown",
   "id": "904a1faf",
   "metadata": {
    "papermill": {
     "duration": 0.008116,
     "end_time": "2023-03-12T23:43:42.336347",
     "exception": false,
     "start_time": "2023-03-12T23:43:42.328231",
     "status": "completed"
    },
    "tags": []
   },
   "source": [
    "## SMAPE is a relative metric so target must be converted."
   ]
  },
  {
   "cell_type": "code",
   "execution_count": 5,
   "id": "c462f535",
   "metadata": {
    "execution": {
     "iopub.execute_input": "2023-03-12T23:43:42.354763Z",
     "iopub.status.busy": "2023-03-12T23:43:42.354389Z",
     "iopub.status.idle": "2023-03-12T23:43:42.379827Z",
     "shell.execute_reply": "2023-03-12T23:43:42.378664Z"
    },
    "papermill": {
     "duration": 0.037696,
     "end_time": "2023-03-12T23:43:42.382498",
     "exception": false,
     "start_time": "2023-03-12T23:43:42.344802",
     "status": "completed"
    },
    "scrolled": true,
    "tags": []
   },
   "outputs": [],
   "source": [
    "raw['target'] = raw.groupby('cfips')['microbusiness_density'].shift(-1)\n",
    "raw['target'] = raw['target']/raw['microbusiness_density'] - 1\n",
    "raw['lastactive'] = raw.groupby('cfips')['active'].transform('last')\n",
    "\n",
    "# outlier cleaning\n",
    "raw.loc[raw['cfips']==28055, 'target'] = 0.0\n",
    "raw.loc[raw['cfips']==48269, 'target'] = 0.0"
   ]
  },
  {
   "cell_type": "markdown",
   "id": "0554d2e2",
   "metadata": {
    "papermill": {
     "duration": 0.008088,
     "end_time": "2023-03-12T23:43:42.399148",
     "exception": false,
     "start_time": "2023-03-12T23:43:42.391060",
     "status": "completed"
    },
    "tags": []
   },
   "source": [
    "# Feature Engineering"
   ]
  },
  {
   "cell_type": "markdown",
   "id": "f791289a",
   "metadata": {},
   "source": [
    "## Basic FE"
   ]
  },
  {
   "cell_type": "code",
   "execution_count": 6,
   "id": "02ad4662",
   "metadata": {},
   "outputs": [],
   "source": [
    "raw['first_day_of_month'] = pd.to_datetime(raw[\"first_day_of_month\"])\n",
    "\n",
    "raw['state_i1'] = raw['state'].astype('category')\n",
    "raw['county_i1'] = raw['county'].astype('category')\n",
    "\n",
    "raw['state_i'] = raw['state'].factorize()[0]\n",
    "raw['county_i'] = (raw['county'] + raw['state']).factorize()[0]\n",
    "\n",
    "raw['state'] = raw.groupby('cfips')['state'].ffill()\n",
    "raw['county'] = raw.groupby('cfips')['county'].ffill()\n",
    "\n",
    "raw['scale'] = (raw['first_day_of_month'] - raw['first_day_of_month'].min()).dt.days\n",
    "raw['scale'] = raw['scale'].factorize()[0]\n",
    "raw[\"dcount\"] = raw.groupby(['cfips'])['row_id'].cumcount()"
   ]
  },
  {
   "cell_type": "markdown",
   "id": "b301fcfd",
   "metadata": {},
   "source": [
    "## Lag feature"
   ]
  },
  {
   "cell_type": "code",
   "execution_count": 7,
   "id": "820d4b92",
   "metadata": {
    "execution": {
     "iopub.execute_input": "2023-03-12T23:43:42.417655Z",
     "iopub.status.busy": "2023-03-12T23:43:42.417283Z",
     "iopub.status.idle": "2023-03-12T23:43:42.429099Z",
     "shell.execute_reply": "2023-03-12T23:43:42.428044Z"
    },
    "papermill": {
     "duration": 0.024199,
     "end_time": "2023-03-12T23:43:42.431660",
     "exception": false,
     "start_time": "2023-03-12T23:43:42.407461",
     "status": "completed"
    },
    "tags": []
   },
   "outputs": [],
   "source": [
    "def build_features(raw, target='microbusiness_density', target_act='active_tmp', lags = 6):\n",
    "    feats = []   \n",
    "\n",
    "    for lag in range(1, lags):\n",
    "        raw[f'mbd_lag_{lag}'] = raw.groupby('cfips')[target].shift(lag)\n",
    "        feats.append(f'mbd_lag_{lag}')\n",
    "        \n",
    "    lag = 1\n",
    "    for window in [2, 4, 6, 8, 10]:\n",
    "        raw[f'mbd_rollmea{window}_{lag}'] = raw.groupby('cfips')[f'mbd_lag_{lag}'].transform(lambda s: s.rolling(window, min_periods=1).sum())        \n",
    "        feats.append(f'mbd_rollmea{window}_{lag}')\n",
    "    \n",
    "    census_columns = list(census.columns)\n",
    "    census_columns.remove( \"cfips\")\n",
    "    \n",
    "    feats += census_columns\n",
    "    feats += co_columns\n",
    "    return raw, feats"
   ]
  },
  {
   "cell_type": "code",
   "execution_count": 8,
   "id": "fbcd034c",
   "metadata": {
    "execution": {
     "iopub.execute_input": "2023-03-12T23:43:42.450470Z",
     "iopub.status.busy": "2023-03-12T23:43:42.450094Z",
     "iopub.status.idle": "2023-03-12T23:43:47.682879Z",
     "shell.execute_reply": "2023-03-12T23:43:47.681844Z"
    },
    "papermill": {
     "duration": 5.245623,
     "end_time": "2023-03-12T23:43:47.685947",
     "exception": false,
     "start_time": "2023-03-12T23:43:42.440324",
     "status": "completed"
    },
    "scrolled": true,
    "tags": []
   },
   "outputs": [],
   "source": [
    "raw, feats = build_features(raw, 'target', 'active', lags = 9)\n",
    "features = ['state_i']\n",
    "features += feats\n",
    "features += ['lng','lat','scale']"
   ]
  },
  {
   "cell_type": "markdown",
   "id": "e61a0c06",
   "metadata": {
    "papermill": {
     "duration": 0.008172,
     "end_time": "2023-03-12T23:43:47.703156",
     "exception": false,
     "start_time": "2023-03-12T23:43:47.694984",
     "status": "completed"
    },
    "tags": []
   },
   "source": [
    "## Latitude and Longitude\n",
    "Latitude and Longitude feature engineering from [Positional Encoder Graph Neural Networks for Geographic Data](!https://arxiv.org/abs/2111.10144) and [here](!https://www.kaggle.com/competitions/playground-series-s3e1/discussion/376210)."
   ]
  },
  {
   "cell_type": "code",
   "execution_count": 9,
   "id": "d4efcb94",
   "metadata": {
    "execution": {
     "iopub.execute_input": "2023-03-12T23:43:47.722610Z",
     "iopub.status.busy": "2023-03-12T23:43:47.722226Z",
     "iopub.status.idle": "2023-03-12T23:43:47.910050Z",
     "shell.execute_reply": "2023-03-12T23:43:47.908960Z"
    },
    "papermill": {
     "duration": 0.200756,
     "end_time": "2023-03-12T23:43:47.912816",
     "exception": false,
     "start_time": "2023-03-12T23:43:47.712060",
     "status": "completed"
    },
    "tags": []
   },
   "outputs": [],
   "source": [
    "coordinates = raw[['lng', 'lat']].values\n",
    "\n",
    "# Encoding tricks\n",
    "emb_size = 20\n",
    "precision = 1e6\n",
    "\n",
    "latlon = np.expand_dims(coordinates, axis=-1)\n",
    "\n",
    "m = np.exp(np.log(precision) / emb_size)\n",
    "angle_freq = m ** np.arange(emb_size)\n",
    "angle_freq = angle_freq.reshape(1,1, emb_size)\n",
    "latlon = latlon * angle_freq\n",
    "latlon[..., 0::2] = np.cos(latlon[..., 0::2])"
   ]
  },
  {
   "cell_type": "code",
   "execution_count": 10,
   "id": "e38317a7",
   "metadata": {
    "execution": {
     "iopub.execute_input": "2023-03-12T23:43:47.931548Z",
     "iopub.status.busy": "2023-03-12T23:43:47.931165Z",
     "iopub.status.idle": "2023-03-12T23:43:47.948043Z",
     "shell.execute_reply": "2023-03-12T23:43:47.947140Z"
    },
    "papermill": {
     "duration": 0.028975,
     "end_time": "2023-03-12T23:43:47.950381",
     "exception": false,
     "start_time": "2023-03-12T23:43:47.921406",
     "status": "completed"
    },
    "tags": []
   },
   "outputs": [],
   "source": [
    "def rot(df):\n",
    "    for angle in [15, 30, 45]:\n",
    "        df[f'rot_{angle}_x'] = (np.cos(np.radians(angle)) * df['lat']) + \\\n",
    "                                (np.sin(np.radians(angle)) * df['lng'])\n",
    "        \n",
    "        df[f'rot_{angle}_y'] = (np.cos(np.radians(angle)) * df['lat']) - \\\n",
    "                                (np.sin(np.radians(angle)) * df['lng'])\n",
    "        \n",
    "    return df\n",
    "\n",
    "raw = rot(raw)"
   ]
  },
  {
   "cell_type": "code",
   "execution_count": 11,
   "id": "0938a165",
   "metadata": {
    "execution": {
     "iopub.execute_input": "2023-03-12T23:43:47.968752Z",
     "iopub.status.busy": "2023-03-12T23:43:47.968374Z",
     "iopub.status.idle": "2023-03-12T23:43:47.973709Z",
     "shell.execute_reply": "2023-03-12T23:43:47.972585Z"
    },
    "papermill": {
     "duration": 0.017142,
     "end_time": "2023-03-12T23:43:47.975827",
     "exception": false,
     "start_time": "2023-03-12T23:43:47.958685",
     "status": "completed"
    },
    "tags": []
   },
   "outputs": [],
   "source": [
    "features += ['rot_15_x', 'rot_15_y', 'rot_30_x', 'rot_30_y', 'rot_45_x', 'rot_45_y']"
   ]
  },
  {
   "cell_type": "markdown",
   "id": "91cb73e1",
   "metadata": {
    "papermill": {
     "duration": 0.007903,
     "end_time": "2023-03-12T23:43:47.992013",
     "exception": false,
     "start_time": "2023-03-12T23:43:47.984110",
     "status": "completed"
    },
    "tags": []
   },
   "source": [
    "## CPI"
   ]
  },
  {
   "cell_type": "code",
   "execution_count": 12,
   "id": "55e1746d",
   "metadata": {
    "execution": {
     "iopub.execute_input": "2023-03-12T23:43:48.009991Z",
     "iopub.status.busy": "2023-03-12T23:43:48.009597Z",
     "iopub.status.idle": "2023-03-12T23:43:49.773320Z",
     "shell.execute_reply": "2023-03-12T23:43:49.772145Z"
    },
    "papermill": {
     "duration": 1.776101,
     "end_time": "2023-03-12T23:43:49.776160",
     "exception": false,
     "start_time": "2023-03-12T23:43:48.000059",
     "status": "completed"
    },
    "tags": []
   },
   "outputs": [],
   "source": [
    "raw['year']=raw.first_day_of_month.dt.year\n",
    "raw['month']=raw.first_day_of_month.dt.month\n",
    "\n",
    "cpi['category'] = pd.to_datetime(cpi['category'] )\n",
    "cpi[\"year\"] = cpi['category'] .dt.year\n",
    "cpi[\"month\"] = cpi['category'] .dt.month\n",
    "cpi[\"dcount\"] = cpi.index\n",
    "\n",
    "# Linear prediction for future CPI from 2022-05-01\n",
    "result_list = []\n",
    "pred_cpi_set = cpi[cpi.category>='2022-05-01']\n",
    "\n",
    "for col in pred_cpi_set.columns[1:-3]: # exclude first_day_of_month, year, month, dcount\n",
    "    X = np.array(range(1,10)).reshape(-1, 1)\n",
    "    X_pred = np.array(range(10,15)).reshape(-1, 1)\n",
    "\n",
    "    Y = pred_cpi_set[col].values[:9]\n",
    "    \n",
    "    # linear prediction\n",
    "    linear_regressor = LinearRegression()  \n",
    "    linear_regressor.fit(X, Y)  \n",
    "    Y_pred = linear_regressor.predict(X_pred)\n",
    "\n",
    "    result_list.append(Y_pred)\n",
    "\n",
    "# fill future val with prediction\n",
    "for i,col in enumerate(cpi.columns[1:-3]):\n",
    "    cpi.loc[42:,col] = result_list[i]\n",
    "\n",
    "cpi.rename(columns = {'category':'first_day_of_month'}, inplace = True)\n",
    "\n",
    "# merge into the originalset \n",
    "raw = raw.merge(cpi, on=['first_day_of_month','year','month','dcount'], how='left')\n",
    "\n",
    "features += ['electricity_cpi','fuel_cpi','gas_all_cpi','gas_unleaded_cpi','cpi_all_urban']"
   ]
  },
  {
   "cell_type": "markdown",
   "id": "c01e2abe",
   "metadata": {
    "papermill": {
     "duration": 0.007861,
     "end_time": "2023-03-12T23:43:49.833531",
     "exception": false,
     "start_time": "2023-03-12T23:43:49.825670",
     "status": "completed"
    },
    "tags": []
   },
   "source": [
    "# Modeling"
   ]
  },
  {
   "cell_type": "code",
   "execution_count": 13,
   "id": "b95f822d",
   "metadata": {},
   "outputs": [],
   "source": [
    "def smape(y_true, y_pred):\n",
    "    smap = np.zeros(len(y_true))\n",
    "    \n",
    "    num = np.abs(y_true - y_pred)\n",
    "    dem = ((np.abs(y_true) + np.abs(y_pred)) / 2)\n",
    "    \n",
    "    pos_ind = (y_true!=0)|(y_pred!=0)\n",
    "    smap[pos_ind] = num[pos_ind] / dem[pos_ind]\n",
    "    \n",
    "    return 100 * np.mean(smap)\n",
    "\n",
    "def vsmape(y_true, y_pred):\n",
    "    smap = np.zeros(len(y_true))\n",
    "    \n",
    "    num = np.abs(y_true - y_pred)\n",
    "    dem = ((np.abs(y_true) + np.abs(y_pred)) / 2)\n",
    "    \n",
    "    pos_ind = (y_true!=0)|(y_pred!=0)\n",
    "    smap[pos_ind] = num[pos_ind] / dem[pos_ind]\n",
    "    \n",
    "    return 100 * smap"
   ]
  },
  {
   "cell_type": "code",
   "execution_count": 14,
   "id": "58479c95",
   "metadata": {
    "execution": {
     "iopub.execute_input": "2023-03-12T23:43:49.851617Z",
     "iopub.status.busy": "2023-03-12T23:43:49.851240Z",
     "iopub.status.idle": "2023-03-12T23:43:49.865963Z",
     "shell.execute_reply": "2023-03-12T23:43:49.864892Z"
    },
    "papermill": {
     "duration": 0.026668,
     "end_time": "2023-03-12T23:43:49.868315",
     "exception": false,
     "start_time": "2023-03-12T23:43:49.841647",
     "status": "completed"
    },
    "tags": []
   },
   "outputs": [],
   "source": [
    "def get_model():\n",
    "    cat_model = cat.CatBoostRegressor(\n",
    "        iterations=2000,\n",
    "        loss_function=\"MAPE\",\n",
    "        verbose=0,\n",
    "        grow_policy='SymmetricTree',\n",
    "        learning_rate=0.035,\n",
    "        colsample_bylevel=0.8,\n",
    "        max_depth=5,\n",
    "        l2_leaf_reg=0.2,\n",
    "        subsample=0.70,\n",
    "        max_bin=4096,\n",
    "    )\n",
    "\n",
    "    return cat_model\n",
    "\n",
    "\n",
    "def base_models():\n",
    "    lgb_model = lgb.LGBMRegressor(n_iter=300,\n",
    "                                boosting_type='dart',\n",
    "                                verbosity=-1,\n",
    "                                objective='l1',\n",
    "                                random_state=42,\n",
    "                                colsample_bytree=0.88,\n",
    "                                colsample_bynode=0.1,\n",
    "                                max_depth=8,\n",
    "                                learning_rate=0.0036,\n",
    "                                lambda_l2=0.5,\n",
    "                                num_leaves=61,\n",
    "                                seed=42,\n",
    "                                min_data_in_leaf=213)\n",
    "    \n",
    "    xgb_model = xgb.XGBRegressor(\n",
    "                                objective='reg:squarederror',\n",
    "                                tree_method=\"hist\",\n",
    "                                n_estimators=795,\n",
    "                                learning_rate=0.0075,\n",
    "                                max_depth=6,  \n",
    "                                subsample=0.50,\n",
    "                                colsample_bytree=0.50,\n",
    "                                max_bin=4096,\n",
    "                                n_jobs=-1)\n",
    "\n",
    "\n",
    "    cat_model = cat.CatBoostRegressor(\n",
    "                                    iterations=2000,\n",
    "                                    loss_function=\"MAPE\",\n",
    "                                    verbose=0,\n",
    "                                    grow_policy='SymmetricTree',\n",
    "                                    learning_rate=0.035,\n",
    "                                    colsample_bylevel=0.8,\n",
    "                                    max_depth=5,\n",
    "                                    l2_leaf_reg=0.2,\n",
    "                                    subsample=0.70,\n",
    "                                    max_bin=4096)\n",
    "    \n",
    "\n",
    "    \n",
    "    rf_model=RandomForestRegressor(criterion=\"friedman_mse\",\n",
    "                                    n_estimators= 500,\n",
    "                                    max_depth=5,\n",
    "                                    max_leaf_nodes=17,\n",
    "                                    n_jobs=-1,\n",
    "                                    random_state=42)\n",
    "    models = {}\n",
    "    models['xgb'] = xgb_model\n",
    "    models['lgbm'] = lgb_model\n",
    "    models['cat'] = cat_model\n",
    "    models['rf']=rf_model\n",
    "\n",
    "    return models"
   ]
  },
  {
   "cell_type": "code",
   "execution_count": 15,
   "id": "e567104b",
   "metadata": {
    "execution": {
     "iopub.execute_input": "2023-03-12T23:43:50.131251Z",
     "iopub.status.busy": "2023-03-12T23:43:50.130873Z",
     "iopub.status.idle": "2023-03-12T23:52:29.852127Z",
     "shell.execute_reply": "2023-03-12T23:52:29.850923Z"
    },
    "papermill": {
     "duration": 519.742115,
     "end_time": "2023-03-12T23:52:29.863283",
     "exception": false,
     "start_time": "2023-03-12T23:43:50.121168",
     "status": "completed"
    },
    "tags": []
   },
   "outputs": [
    {
     "name": "stdout",
     "output_type": "stream",
     "text": [
      "TS: 39\n"
     ]
    },
    {
     "name": "stdout",
     "output_type": "stream",
     "text": [
      "Last Value SMAPE: 0.8168778492244758\n",
      "SMAPE: 0.5017516202987414\n",
      "\n",
      "Last Value SMAPE: 0.8168778492244758\n",
      "SMAPE: 0.5017516202987414\n"
     ]
    }
   ],
   "source": [
    "# init\n",
    "raw['ypred_last'] = np.nan\n",
    "raw['ypred'] = np.nan\n",
    "raw['k'] = 1.\n",
    "raw['microbusiness_density'].fillna(0, inplace = True)\n",
    "\n",
    "for TS in range(MONTH_1, MONTH_last):\n",
    "    print(f'TS: {TS}')\n",
    "   \n",
    "   # init model\n",
    "    models = base_models()\n",
    "    model0 = models['xgb']\n",
    "    # model1 = models['lgbm']\n",
    "    model2 = models['cat']\n",
    "    model3 = models['rf']\n",
    "\n",
    "    # train val split\n",
    "    train_indices = (raw.istest==0) & (raw.dcount  < TS) & (raw.dcount >= 1) & (raw.lastactive>ACT_THR) \n",
    "    valid_indices = (raw.istest==0) & (raw.dcount == TS) \n",
    "    \n",
    "    # fit model\n",
    "    # Train each of the models on the current TS\n",
    "    model0.fit(\n",
    "        raw.loc[train_indices, features],\n",
    "        raw.loc[train_indices, 'target'].clip(-0.002, 0.006))\n",
    "    \n",
    "    # model1.fit(\n",
    "    #     raw.loc[train_indices, features],\n",
    "    #     raw.loc[train_indices, 'target'].clip(-0.002, 0.006))\n",
    "    \n",
    "    model2.fit(\n",
    "        raw.loc[train_indices, features],\n",
    "        raw.loc[train_indices, 'target'].clip(-0.002, 0.006))\n",
    "    \n",
    "    model3.fit(\n",
    "        raw.loc[train_indices, features].fillna(method='bfill'),\n",
    "        raw.loc[train_indices, 'target'].clip(-0.002, 0.006))    \n",
    "    \n",
    "\n",
    "    # stacking \n",
    "    # build input for stacking model prediction\n",
    "    tr_pred0 = model0.predict(raw.loc[train_indices, features])\n",
    "    # tr_pred1 = model1.predict(raw.loc[train_indices, features])\n",
    "    tr_pred2 = model2.predict(raw.loc[train_indices, features])\n",
    "    tr_pred3 = model3.predict(raw.loc[train_indices, features].fillna(method='bfill'))\n",
    "    \n",
    "    train_preds = np.column_stack((tr_pred0, tr_pred2,tr_pred3))\n",
    "    # train_preds = np.column_stack((tr_pred0, tr_pred1, tr_pred2,tr_pred3))\n",
    "\n",
    "\n",
    "    # build input for stacking model prediction\n",
    "    val_preds0 = model0.predict(raw.loc[valid_indices, features])\n",
    "    # val_preds1 = model1.predict(raw.loc[valid_indices, features])\n",
    "    val_preds2 = model2.predict(raw.loc[valid_indices, features])\n",
    "    val_preds3 = model3.predict(raw.loc[valid_indices, features].fillna(method='bfill'))\n",
    "    \n",
    "    valid_preds = np.column_stack((val_preds0, val_preds2, val_preds3))\n",
    "    # valid_preds = np.column_stack((val_preds0, val_preds1, val_preds2,val_preds3))\n",
    "\n",
    "\n",
    "    # init and fit \n",
    "    meta_model = get_model() \n",
    "    meta_model.fit(train_preds, raw.loc[train_indices, 'target'].clip(-0.002, 0.006))\n",
    "    \n",
    "\n",
    "    # get stacking model prediction \n",
    "    ypred = meta_model.predict(valid_preds)\n",
    "    \n",
    "    # transform % change back to actual density \n",
    "    raw.loc[valid_indices, 'k'] = ypred + 1\n",
    "    raw.loc[valid_indices,'k'] = raw.loc[valid_indices,'k'] * raw.loc[valid_indices,'microbusiness_density']\n",
    "\n",
    "    # Validate\n",
    "    lastval = raw.loc[raw.dcount==TS, ['cfips', 'microbusiness_density']].set_index('cfips').to_dict()['microbusiness_density']\n",
    "    dt = raw.loc[raw.dcount==TS, ['cfips', 'k']].set_index('cfips').to_dict()['k']\n",
    "    \n",
    "    df = raw.loc[raw.dcount==(TS+1), \n",
    "                 ['cfips', 'microbusiness_density', 'state', 'lastactive', 'mbd_lag_1']].reset_index(drop=True)\n",
    "    \n",
    "    # map val \n",
    "    df['pred'] = df['cfips'].map(dt)\n",
    "    df['lastval'] = df['cfips'].map(lastval)\n",
    "    \n",
    "    # Setting predictions to last values for inactive data points\n",
    "    df.loc[df['lastactive']<=ACT_THR, 'pred'] = df.loc[df['lastactive']<=ACT_THR, 'lastval']\n",
    "        \n",
    "    raw.loc[raw.dcount==(TS+1), 'ypred'] = df['pred'].values\n",
    "    raw.loc[raw.dcount==(TS+1), 'ypred_last'] = df['lastval'].values\n",
    "    \n",
    "    # print eval res \n",
    "    print('Last Value SMAPE:', smape(df['microbusiness_density'], df['lastval']) )\n",
    "    print('SMAPE:', smape(df['microbusiness_density'], df['pred']))\n",
    "    print()\n",
    "\n",
    "\n",
    "# eval range \n",
    "ind = (raw.dcount > MONTH_1)&(raw.dcount <= MONTH_last)\n",
    "\n",
    "print('Last Value SMAPE:', smape( raw.loc[ind, 'microbusiness_density'],  raw.loc[ind, 'ypred_last']))\n",
    "print('SMAPE:', smape( raw.loc[ind, 'microbusiness_density'],  raw.loc[ind, 'ypred']))"
   ]
  },
  {
   "cell_type": "markdown",
   "id": "c34ae524",
   "metadata": {},
   "source": [
    "## keep working on the rest "
   ]
  },
  {
   "cell_type": "code",
   "execution_count": 16,
   "id": "d1352c98",
   "metadata": {
    "execution": {
     "iopub.execute_input": "2023-03-12T23:52:29.932580Z",
     "iopub.status.busy": "2023-03-12T23:52:29.932201Z",
     "iopub.status.idle": "2023-03-13T00:01:20.766799Z",
     "shell.execute_reply": "2023-03-13T00:01:20.765621Z"
    },
    "papermill": {
     "duration": 530.856627,
     "end_time": "2023-03-13T00:01:20.778326",
     "exception": false,
     "start_time": "2023-03-12T23:52:29.921699",
     "status": "completed"
    },
    "tags": []
   },
   "outputs": [
    {
     "name": "stdout",
     "output_type": "stream",
     "text": [
      "40\n"
     ]
    },
    {
     "data": {
      "text/plain": [
       "<catboost.core.CatBoostRegressor at 0x7fd2199ee5e0>"
      ]
     },
     "execution_count": 16,
     "metadata": {},
     "output_type": "execute_result"
    }
   ],
   "source": [
    "TS = 40\n",
    "print(TS)\n",
    "\n",
    "train_indices = (raw.istest==0) & (raw.dcount  < TS) & (raw.dcount >= 1) & (raw.lastactive>ACT_THR) \n",
    "valid_indices = (raw.dcount == TS)\n",
    "\n",
    "model0.fit(\n",
    "        raw.loc[train_indices, features],\n",
    "        raw.loc[train_indices, 'target'].clip(-0.002, 0.006))\n",
    "    \n",
    "# model1.fit(\n",
    "#     raw.loc[train_indices, features],\n",
    "#     raw.loc[train_indices, 'target'].clip(-0.002, 0.006))\n",
    "\n",
    "model2.fit(\n",
    "    raw.loc[train_indices, features],\n",
    "    raw.loc[train_indices, 'target'].clip(-0.002, 0.006))\n",
    "\n",
    "model3.fit(\n",
    "    raw.loc[train_indices, features].fillna(method='bfill'),\n",
    "    raw.loc[train_indices, 'target'].clip(-0.002, 0.006))\n",
    "\n",
    "# Stacking\n",
    "tr_pred0 = model0.predict(raw.loc[train_indices, features])\n",
    "# tr_pred1 = model1.predict(raw.loc[train_indices, features])\n",
    "tr_pred2 = model2.predict(raw.loc[train_indices, features])\n",
    "tr_pred3 = model3.predict(raw.loc[train_indices, features].fillna(method='bfill'))\n",
    "train_preds = np.column_stack((tr_pred0, tr_pred2,tr_pred3))\n",
    "# train_preds = np.column_stack((tr_pred0, tr_pred1, tr_pred2,tr_pred3))\n",
    "\n",
    "meta_model = get_model() \n",
    "meta_model.fit(train_preds, raw.loc[train_indices, 'target'].clip(-0.002, 0.006))\n"
   ]
  },
  {
   "cell_type": "markdown",
   "id": "bba6d5ad",
   "metadata": {
    "papermill": {
     "duration": 0.009341,
     "end_time": "2023-03-13T00:01:20.796886",
     "exception": false,
     "start_time": "2023-03-13T00:01:20.787545",
     "status": "completed"
    },
    "tags": []
   },
   "source": [
    "# Recusive Prediction"
   ]
  },
  {
   "cell_type": "code",
   "execution_count": 17,
   "id": "6d5a74ce",
   "metadata": {
    "execution": {
     "iopub.execute_input": "2023-03-13T00:01:20.818096Z",
     "iopub.status.busy": "2023-03-13T00:01:20.816747Z",
     "iopub.status.idle": "2023-03-13T00:01:20.824672Z",
     "shell.execute_reply": "2023-03-13T00:01:20.823723Z"
    },
    "papermill": {
     "duration": 0.020974,
     "end_time": "2023-03-13T00:01:20.827099",
     "exception": false,
     "start_time": "2023-03-13T00:01:20.806125",
     "status": "completed"
    },
    "tags": []
   },
   "outputs": [],
   "source": [
    "def build_pred_features(raw, target='microbusiness_density', target_act='active_tmp', lags = 6):\n",
    "\n",
    "    for lag in range(1, lags):\n",
    "        raw[f'mbd_lag_{lag}'] = raw.groupby('cfips')[target].shift(lag)\n",
    "#         raw[f'act_lag_{lag}'] = raw.groupby('cfips')[target_act].diff(lag)\n",
    "        \n",
    "    lag = 1\n",
    "    for window in [2, 4, 6, 8, 10]:\n",
    "        raw[f'mbd_rollmea{window}_{lag}'] = raw.groupby('cfips')[f'mbd_lag_{lag}'].transform(lambda s: s.rolling(window, min_periods=1).sum())        \n",
    "    return raw"
   ]
  },
  {
   "cell_type": "code",
   "execution_count": 18,
   "id": "56a53bce",
   "metadata": {
    "execution": {
     "iopub.execute_input": "2023-03-13T00:01:20.847912Z",
     "iopub.status.busy": "2023-03-13T00:01:20.847491Z",
     "iopub.status.idle": "2023-03-13T00:01:58.035961Z",
     "shell.execute_reply": "2023-03-13T00:01:58.034672Z"
    },
    "papermill": {
     "duration": 37.202327,
     "end_time": "2023-03-13T00:01:58.038886",
     "exception": false,
     "start_time": "2023-03-13T00:01:20.836559",
     "status": "completed"
    },
    "tags": []
   },
   "outputs": [],
   "source": [
    "def predict(raw,model,features):\n",
    "    pred_months=[\n",
    "                '2022-12-01',\n",
    "                '2023-01-01', \n",
    "                '2023-02-01', \n",
    "                '2023-03-01', \n",
    "                '2023-04-01', \n",
    "                '2023-05-01', \n",
    "                '2023-06-01'\n",
    "    ]\n",
    "    \n",
    "    df_preds=raw.sort_values('first_day_of_month').reset_index(drop=True)\n",
    "    df_new=raw.copy()\n",
    "\n",
    "    for i,cur_month in enumerate(pred_months):\n",
    "        if i: # starting from second one, we need to calculate mbd first \n",
    "            df_pred=df_new.query('first_day_of_month==@cur_month')  # query next month for prediction\n",
    "            df_t=df_new.query('first_day_of_month==@prev_month')\n",
    "            df_t['next_mbd']=df_t['microbusiness_density']*(1+df_t['target'])\n",
    "\n",
    "            d=df_t[['cfips','next_mbd']].set_index('cfips').to_dict()\n",
    "            df_pred['microbusiness_density']=df_pred['cfips'].map(d['next_mbd'])\n",
    "\n",
    "            indices=df_pred.index\n",
    "            df_new.loc[indices,'microbusiness_density']=df_pred['microbusiness_density']\n",
    "\n",
    "        df_new = build_pred_features(df_new, 'target', 'active', lags = 9)\n",
    "        df_pred=df_new.query('first_day_of_month==@cur_month')  # query next month for prediction\n",
    "\n",
    "        # prediction\n",
    "        val_preds0 = model0.predict(df_pred[features])\n",
    "        # val_preds1 = model1.predict(df_pred[features])\n",
    "        val_preds2 = model2.predict(df_pred[features])\n",
    "        val_preds3 = model3.predict(df_pred[features].fillna(method='bfill'))\n",
    "        valid_preds = np.column_stack((val_preds0, val_preds2, val_preds3))\n",
    "        # valid_preds = np.column_stack((val_preds0, val_preds1, val_preds2,val_preds3))\n",
    "\n",
    "        pred = meta_model.predict(valid_preds)\n",
    "\n",
    "        \n",
    "        indices=df_pred.index\n",
    "        df_new.loc[indices,'target']=pred\n",
    "\n",
    "        prev_month=cur_month\n",
    "    \n",
    "    return df_new\n",
    "\n",
    "raw_pred=predict(raw,model0,features)"
   ]
  },
  {
   "cell_type": "markdown",
   "id": "c044d1a2",
   "metadata": {
    "papermill": {
     "duration": 0.010024,
     "end_time": "2023-03-13T00:01:58.060066",
     "exception": false,
     "start_time": "2023-03-13T00:01:58.050042",
     "status": "completed"
    },
    "tags": []
   },
   "source": [
    "# Postprocessing (Recursive)"
   ]
  },
  {
   "cell_type": "code",
   "execution_count": 19,
   "id": "43b16b39",
   "metadata": {
    "execution": {
     "iopub.execute_input": "2023-03-13T00:01:58.082189Z",
     "iopub.status.busy": "2023-03-13T00:01:58.081760Z",
     "iopub.status.idle": "2023-03-13T00:01:58.144934Z",
     "shell.execute_reply": "2023-03-13T00:01:58.143803Z"
    },
    "papermill": {
     "duration": 0.077547,
     "end_time": "2023-03-13T00:01:58.147826",
     "exception": false,
     "start_time": "2023-03-13T00:01:58.070279",
     "status": "completed"
    },
    "scrolled": true,
    "tags": []
   },
   "outputs": [],
   "source": [
    "lastval = raw.loc[raw.dcount==TS, ['cfips', 'microbusiness_density']].set_index('cfips').to_dict()['microbusiness_density']\n",
    "lastactive = raw.loc[raw.dcount==TS, ['cfips', 'active']].set_index('cfips').to_dict()['active']\n",
    "\n",
    "df = raw_pred.loc[(raw_pred.dcount>=(TS+1)), ['cfips', 'microbusiness_density']]#.to_dict()['microbusiness_density']\n",
    "# df = raw_pred.loc[raw_pred.dcount>=TS, ['cfips', 'microbusiness_density']]#.to_dict()['microbusiness_density']\n",
    "df['lastval'] = df['cfips'].map(lastval)\n",
    "df['lastactive'] = df['cfips'].map(lastactive)\n",
    "\n",
    "df.loc[df['lastactive']<=ACT_THR, 'microbusiness_density'] = df.loc[df['lastactive']<=ACT_THR, 'lastval']\n",
    "\n",
    "raw.loc[raw.dcount>=(TS+1), 'ypred'] = df['microbusiness_density'].values\n",
    "raw.loc[raw.dcount>=(TS+1), 'ypred_last'] = df['lastval'].values\n",
    "\n",
    "raw.loc[raw['cfips']==28055, 'microbusiness_density'] = 0\n",
    "raw.loc[raw['cfips']==48269, 'microbusiness_density'] = 1.762115"
   ]
  },
  {
   "cell_type": "markdown",
   "id": "858e43ac",
   "metadata": {
    "papermill": {
     "duration": 0.009951,
     "end_time": "2023-03-13T00:01:58.168374",
     "exception": false,
     "start_time": "2023-03-13T00:01:58.158423",
     "status": "completed"
    },
    "tags": []
   },
   "source": [
    "# Population Adjustment"
   ]
  },
  {
   "cell_type": "code",
   "execution_count": 20,
   "id": "e5a67b4c",
   "metadata": {
    "execution": {
     "iopub.execute_input": "2023-03-13T00:01:58.190790Z",
     "iopub.status.busy": "2023-03-13T00:01:58.190395Z",
     "iopub.status.idle": "2023-03-13T00:01:58.919217Z",
     "shell.execute_reply": "2023-03-13T00:01:58.917952Z"
    },
    "papermill": {
     "duration": 0.743855,
     "end_time": "2023-03-13T00:01:58.922343",
     "exception": false,
     "start_time": "2023-03-13T00:01:58.178488",
     "status": "completed"
    },
    "tags": []
   },
   "outputs": [],
   "source": [
    "COLS = ['GEO_ID','NAME','S0101_C01_026E']\n",
    "df2020 = pd.read_csv(BASE + 'census-data-for-godaddy/ACSST5Y2020.S0101-Data.csv', usecols=COLS, dtype = 'object')\n",
    "df2021 = pd.read_csv(BASE + 'census-data-for-godaddy/ACSST5Y2021.S0101-Data.csv',usecols=COLS, dtype = 'object')\n",
    "\n",
    "df2020 = df2020.iloc[1:]\n",
    "df2020 = df2020.astype({'S0101_C01_026E':'int'})\n",
    "\n",
    "df2021 = df2021.iloc[1:]\n",
    "df2021 = df2021.astype({'S0101_C01_026E':'int'})\n",
    "\n",
    "df2020['cfips'] = df2020.GEO_ID.apply(lambda x: int(x.split('US')[-1]))\n",
    "df2020.set_index('cfips',inplace=True)\n",
    "# adult2020 = df2020.set_index('cfips').S0101_C01_026E.to_dict()\n",
    "\n",
    "df2021['cfips'] = df2021.GEO_ID.apply(lambda x: int(x.split('US')[-1]))\n",
    "df2021.set_index('cfips',inplace=True)\n",
    "# adult2021 = df2021.set_index('cfips').S0101_C01_026E.to_dict()\n",
    "\n",
    "# df2020['mnoshitel'] = df2020['S0101_C01_026E'] / df2021['S0101_C01_026E']\n",
    "# df2020 = df2020[['cfips','mnoshitel']]\n",
    "\n",
    "\n",
    "\n",
    "df2020['ppl_2020']=df2020['S0101_C01_026E']\n",
    "df2020['ppl_2021']=df2021['S0101_C01_026E'].sample(len(df2020))\n",
    "\n",
    "df2020 = df2020[['ppl_2020','ppl_2021']]"
   ]
  },
  {
   "cell_type": "code",
   "execution_count": 21,
   "id": "cd48365e",
   "metadata": {
    "execution": {
     "iopub.execute_input": "2023-03-13T00:01:58.945259Z",
     "iopub.status.busy": "2023-03-13T00:01:58.944856Z",
     "iopub.status.idle": "2023-03-13T00:01:59.181584Z",
     "shell.execute_reply": "2023-03-13T00:01:59.180330Z"
    },
    "papermill": {
     "duration": 0.251522,
     "end_time": "2023-03-13T00:01:59.184354",
     "exception": false,
     "start_time": "2023-03-13T00:01:58.932832",
     "status": "completed"
    },
    "tags": []
   },
   "outputs": [],
   "source": [
    "raw = raw.join(df2020, on='cfips')\n",
    "maska = (raw[\"first_day_of_month\"]>='2023-01-01')\n",
    "raw.loc[maska, 'microbusiness_density'] = np.round(raw.loc[maska, 'ypred'] * raw.loc[maska, 'ppl_2020'])/raw.loc[maska, 'ppl_2021']\n",
    "# raw.drop(columns = 'mnoshitel' , inplace = True)\n",
    "raw.drop(columns = ['ppl_2020','ppl_2021'] , inplace = True)"
   ]
  },
  {
   "cell_type": "markdown",
   "id": "17d78f8c",
   "metadata": {
    "papermill": {
     "duration": 0.010377,
     "end_time": "2023-03-13T00:01:59.205509",
     "exception": false,
     "start_time": "2023-03-13T00:01:59.195132",
     "status": "completed"
    },
    "tags": []
   },
   "source": [
    "# Build Submission"
   ]
  },
  {
   "cell_type": "code",
   "execution_count": 22,
   "id": "ba5b2fc7",
   "metadata": {
    "execution": {
     "iopub.execute_input": "2023-03-13T00:01:59.227896Z",
     "iopub.status.busy": "2023-03-13T00:01:59.227472Z",
     "iopub.status.idle": "2023-03-13T00:01:59.331987Z",
     "shell.execute_reply": "2023-03-13T00:01:59.330639Z"
    },
    "papermill": {
     "duration": 0.118922,
     "end_time": "2023-03-13T00:01:59.334717",
     "exception": false,
     "start_time": "2023-03-13T00:01:59.215795",
     "status": "completed"
    },
    "tags": []
   },
   "outputs": [
    {
     "data": {
      "text/html": [
       "<div>\n",
       "<style scoped>\n",
       "    .dataframe tbody tr th:only-of-type {\n",
       "        vertical-align: middle;\n",
       "    }\n",
       "\n",
       "    .dataframe tbody tr th {\n",
       "        vertical-align: top;\n",
       "    }\n",
       "\n",
       "    .dataframe thead th {\n",
       "        text-align: right;\n",
       "    }\n",
       "</style>\n",
       "<table border=\"1\" class=\"dataframe\">\n",
       "  <thead>\n",
       "    <tr style=\"text-align: right;\">\n",
       "      <th></th>\n",
       "      <th>row_id</th>\n",
       "      <th>microbusiness_density</th>\n",
       "    </tr>\n",
       "  </thead>\n",
       "  <tbody>\n",
       "    <tr>\n",
       "      <th>39</th>\n",
       "      <td>1001_2022-11-01</td>\n",
       "      <td>3.442677</td>\n",
       "    </tr>\n",
       "    <tr>\n",
       "      <th>40</th>\n",
       "      <td>1001_2022-12-01</td>\n",
       "      <td>3.470915</td>\n",
       "    </tr>\n",
       "    <tr>\n",
       "      <th>41</th>\n",
       "      <td>1001_2023-01-01</td>\n",
       "      <td>3.331248</td>\n",
       "    </tr>\n",
       "    <tr>\n",
       "      <th>42</th>\n",
       "      <td>1001_2023-02-01</td>\n",
       "      <td>3.337819</td>\n",
       "    </tr>\n",
       "    <tr>\n",
       "      <th>43</th>\n",
       "      <td>1001_2023-03-01</td>\n",
       "      <td>3.354404</td>\n",
       "    </tr>\n",
       "    <tr>\n",
       "      <th>44</th>\n",
       "      <td>1001_2023-04-01</td>\n",
       "      <td>3.369076</td>\n",
       "    </tr>\n",
       "    <tr>\n",
       "      <th>45</th>\n",
       "      <td>1001_2023-05-01</td>\n",
       "      <td>3.380215</td>\n",
       "    </tr>\n",
       "    <tr>\n",
       "      <th>46</th>\n",
       "      <td>1001_2023-06-01</td>\n",
       "      <td>3.399140</td>\n",
       "    </tr>\n",
       "  </tbody>\n",
       "</table>\n",
       "</div>"
      ],
      "text/plain": [
       "             row_id  microbusiness_density\n",
       "39  1001_2022-11-01               3.442677\n",
       "40  1001_2022-12-01               3.470915\n",
       "41  1001_2023-01-01               3.331248\n",
       "42  1001_2023-02-01               3.337819\n",
       "43  1001_2023-03-01               3.354404\n",
       "44  1001_2023-04-01               3.369076\n",
       "45  1001_2023-05-01               3.380215\n",
       "46  1001_2023-06-01               3.399140"
      ]
     },
     "execution_count": 22,
     "metadata": {},
     "output_type": "execute_result"
    }
   ],
   "source": [
    "test = raw[raw.first_day_of_month >= '2022-11-01'].copy()\n",
    "test = test[['row_id', 'cfips', 'microbusiness_density']]\n",
    "test = test[['row_id', 'microbusiness_density']]\n",
    "test.to_csv('submission.csv', index=False)\n",
    "test.head(40)"
   ]
  },
  {
   "cell_type": "code",
   "execution_count": null,
   "id": "6c34dc84",
   "metadata": {
    "papermill": {
     "duration": 0.010681,
     "end_time": "2023-03-13T00:01:59.392426",
     "exception": false,
     "start_time": "2023-03-13T00:01:59.381745",
     "status": "completed"
    },
    "tags": []
   },
   "outputs": [],
   "source": []
  },
  {
   "cell_type": "code",
   "execution_count": null,
   "id": "172fb497",
   "metadata": {
    "papermill": {
     "duration": 0.010737,
     "end_time": "2023-03-13T00:01:59.414158",
     "exception": false,
     "start_time": "2023-03-13T00:01:59.403421",
     "status": "completed"
    },
    "tags": []
   },
   "outputs": [],
   "source": []
  }
 ],
 "metadata": {
  "kernelspec": {
   "display_name": "Python 3",
   "language": "python",
   "name": "python3"
  },
  "language_info": {
   "codemirror_mode": {
    "name": "ipython",
    "version": 3
   },
   "file_extension": ".py",
   "mimetype": "text/x-python",
   "name": "python",
   "nbconvert_exporter": "python",
   "pygments_lexer": "ipython3",
   "version": "3.8.18"
  },
  "papermill": {
   "default_parameters": {},
   "duration": 1116.544209,
   "end_time": "2023-03-13T00:02:00.354099",
   "environment_variables": {},
   "exception": null,
   "input_path": "__notebook__.ipynb",
   "output_path": "__notebook__.ipynb",
   "parameters": {},
   "start_time": "2023-03-12T23:43:23.809890",
   "version": "2.3.4"
  },
  "widgets": {
   "application/vnd.jupyter.widget-state+json": {
    "state": {
     "5a6d0687b3ce44b98ecfb6fa011d2a7e": {
      "model_module": "@jupyter-widgets/controls",
      "model_module_version": "1.5.0",
      "model_name": "HTMLModel",
      "state": {
       "_dom_classes": [],
       "_model_module": "@jupyter-widgets/controls",
       "_model_module_version": "1.5.0",
       "_model_name": "HTMLModel",
       "_view_count": null,
       "_view_module": "@jupyter-widgets/controls",
       "_view_module_version": "1.5.0",
       "_view_name": "HTMLView",
       "description": "",
       "description_tooltip": null,
       "layout": "IPY_MODEL_e9d7351ee5b3448eb9fb494710f5f137",
       "placeholder": "​",
       "style": "IPY_MODEL_97fd26a69e2046268a63be6f88099768",
       "value": " 3135/3135 [00:07&lt;00:00, 464.52it/s]"
      }
     },
     "6ec1ca071c4243ea9e2d00dc90f7cca9": {
      "model_module": "@jupyter-widgets/controls",
      "model_module_version": "1.5.0",
      "model_name": "FloatProgressModel",
      "state": {
       "_dom_classes": [],
       "_model_module": "@jupyter-widgets/controls",
       "_model_module_version": "1.5.0",
       "_model_name": "FloatProgressModel",
       "_view_count": null,
       "_view_module": "@jupyter-widgets/controls",
       "_view_module_version": "1.5.0",
       "_view_name": "ProgressView",
       "bar_style": "success",
       "description": "",
       "description_tooltip": null,
       "layout": "IPY_MODEL_9cb25f84808d4ef68a9d879ac06faab6",
       "max": 3135,
       "min": 0,
       "orientation": "horizontal",
       "style": "IPY_MODEL_bf8a056b08bb4beb84977cbe34f8b287",
       "value": 3135
      }
     },
     "7994d94c02cc4f0082893d7c89598ab3": {
      "model_module": "@jupyter-widgets/controls",
      "model_module_version": "1.5.0",
      "model_name": "HBoxModel",
      "state": {
       "_dom_classes": [],
       "_model_module": "@jupyter-widgets/controls",
       "_model_module_version": "1.5.0",
       "_model_name": "HBoxModel",
       "_view_count": null,
       "_view_module": "@jupyter-widgets/controls",
       "_view_module_version": "1.5.0",
       "_view_name": "HBoxView",
       "box_style": "",
       "children": [
        "IPY_MODEL_c0fb2463e9b5499a99234c99c511dd2d",
        "IPY_MODEL_6ec1ca071c4243ea9e2d00dc90f7cca9",
        "IPY_MODEL_5a6d0687b3ce44b98ecfb6fa011d2a7e"
       ],
       "layout": "IPY_MODEL_c3aa111e3b754878870a2664ede6f413"
      }
     },
     "97fd26a69e2046268a63be6f88099768": {
      "model_module": "@jupyter-widgets/controls",
      "model_module_version": "1.5.0",
      "model_name": "DescriptionStyleModel",
      "state": {
       "_model_module": "@jupyter-widgets/controls",
       "_model_module_version": "1.5.0",
       "_model_name": "DescriptionStyleModel",
       "_view_count": null,
       "_view_module": "@jupyter-widgets/base",
       "_view_module_version": "1.2.0",
       "_view_name": "StyleView",
       "description_width": ""
      }
     },
     "9cb25f84808d4ef68a9d879ac06faab6": {
      "model_module": "@jupyter-widgets/base",
      "model_module_version": "1.2.0",
      "model_name": "LayoutModel",
      "state": {
       "_model_module": "@jupyter-widgets/base",
       "_model_module_version": "1.2.0",
       "_model_name": "LayoutModel",
       "_view_count": null,
       "_view_module": "@jupyter-widgets/base",
       "_view_module_version": "1.2.0",
       "_view_name": "LayoutView",
       "align_content": null,
       "align_items": null,
       "align_self": null,
       "border": null,
       "bottom": null,
       "display": null,
       "flex": null,
       "flex_flow": null,
       "grid_area": null,
       "grid_auto_columns": null,
       "grid_auto_flow": null,
       "grid_auto_rows": null,
       "grid_column": null,
       "grid_gap": null,
       "grid_row": null,
       "grid_template_areas": null,
       "grid_template_columns": null,
       "grid_template_rows": null,
       "height": null,
       "justify_content": null,
       "justify_items": null,
       "left": null,
       "margin": null,
       "max_height": null,
       "max_width": null,
       "min_height": null,
       "min_width": null,
       "object_fit": null,
       "object_position": null,
       "order": null,
       "overflow": null,
       "overflow_x": null,
       "overflow_y": null,
       "padding": null,
       "right": null,
       "top": null,
       "visibility": null,
       "width": null
      }
     },
     "a0e4eee3f1e941799d25633cc541b104": {
      "model_module": "@jupyter-widgets/base",
      "model_module_version": "1.2.0",
      "model_name": "LayoutModel",
      "state": {
       "_model_module": "@jupyter-widgets/base",
       "_model_module_version": "1.2.0",
       "_model_name": "LayoutModel",
       "_view_count": null,
       "_view_module": "@jupyter-widgets/base",
       "_view_module_version": "1.2.0",
       "_view_name": "LayoutView",
       "align_content": null,
       "align_items": null,
       "align_self": null,
       "border": null,
       "bottom": null,
       "display": null,
       "flex": null,
       "flex_flow": null,
       "grid_area": null,
       "grid_auto_columns": null,
       "grid_auto_flow": null,
       "grid_auto_rows": null,
       "grid_column": null,
       "grid_gap": null,
       "grid_row": null,
       "grid_template_areas": null,
       "grid_template_columns": null,
       "grid_template_rows": null,
       "height": null,
       "justify_content": null,
       "justify_items": null,
       "left": null,
       "margin": null,
       "max_height": null,
       "max_width": null,
       "min_height": null,
       "min_width": null,
       "object_fit": null,
       "object_position": null,
       "order": null,
       "overflow": null,
       "overflow_x": null,
       "overflow_y": null,
       "padding": null,
       "right": null,
       "top": null,
       "visibility": null,
       "width": null
      }
     },
     "a91c3c64c846491186081c27afb6160a": {
      "model_module": "@jupyter-widgets/controls",
      "model_module_version": "1.5.0",
      "model_name": "DescriptionStyleModel",
      "state": {
       "_model_module": "@jupyter-widgets/controls",
       "_model_module_version": "1.5.0",
       "_model_name": "DescriptionStyleModel",
       "_view_count": null,
       "_view_module": "@jupyter-widgets/base",
       "_view_module_version": "1.2.0",
       "_view_name": "StyleView",
       "description_width": ""
      }
     },
     "bf8a056b08bb4beb84977cbe34f8b287": {
      "model_module": "@jupyter-widgets/controls",
      "model_module_version": "1.5.0",
      "model_name": "ProgressStyleModel",
      "state": {
       "_model_module": "@jupyter-widgets/controls",
       "_model_module_version": "1.5.0",
       "_model_name": "ProgressStyleModel",
       "_view_count": null,
       "_view_module": "@jupyter-widgets/base",
       "_view_module_version": "1.2.0",
       "_view_name": "StyleView",
       "bar_color": null,
       "description_width": ""
      }
     },
     "c0fb2463e9b5499a99234c99c511dd2d": {
      "model_module": "@jupyter-widgets/controls",
      "model_module_version": "1.5.0",
      "model_name": "HTMLModel",
      "state": {
       "_dom_classes": [],
       "_model_module": "@jupyter-widgets/controls",
       "_model_module_version": "1.5.0",
       "_model_name": "HTMLModel",
       "_view_count": null,
       "_view_module": "@jupyter-widgets/controls",
       "_view_module_version": "1.5.0",
       "_view_name": "HTMLView",
       "description": "",
       "description_tooltip": null,
       "layout": "IPY_MODEL_a0e4eee3f1e941799d25633cc541b104",
       "placeholder": "​",
       "style": "IPY_MODEL_a91c3c64c846491186081c27afb6160a",
       "value": "100%"
      }
     },
     "c3aa111e3b754878870a2664ede6f413": {
      "model_module": "@jupyter-widgets/base",
      "model_module_version": "1.2.0",
      "model_name": "LayoutModel",
      "state": {
       "_model_module": "@jupyter-widgets/base",
       "_model_module_version": "1.2.0",
       "_model_name": "LayoutModel",
       "_view_count": null,
       "_view_module": "@jupyter-widgets/base",
       "_view_module_version": "1.2.0",
       "_view_name": "LayoutView",
       "align_content": null,
       "align_items": null,
       "align_self": null,
       "border": null,
       "bottom": null,
       "display": null,
       "flex": null,
       "flex_flow": null,
       "grid_area": null,
       "grid_auto_columns": null,
       "grid_auto_flow": null,
       "grid_auto_rows": null,
       "grid_column": null,
       "grid_gap": null,
       "grid_row": null,
       "grid_template_areas": null,
       "grid_template_columns": null,
       "grid_template_rows": null,
       "height": null,
       "justify_content": null,
       "justify_items": null,
       "left": null,
       "margin": null,
       "max_height": null,
       "max_width": null,
       "min_height": null,
       "min_width": null,
       "object_fit": null,
       "object_position": null,
       "order": null,
       "overflow": null,
       "overflow_x": null,
       "overflow_y": null,
       "padding": null,
       "right": null,
       "top": null,
       "visibility": null,
       "width": null
      }
     },
     "e9d7351ee5b3448eb9fb494710f5f137": {
      "model_module": "@jupyter-widgets/base",
      "model_module_version": "1.2.0",
      "model_name": "LayoutModel",
      "state": {
       "_model_module": "@jupyter-widgets/base",
       "_model_module_version": "1.2.0",
       "_model_name": "LayoutModel",
       "_view_count": null,
       "_view_module": "@jupyter-widgets/base",
       "_view_module_version": "1.2.0",
       "_view_name": "LayoutView",
       "align_content": null,
       "align_items": null,
       "align_self": null,
       "border": null,
       "bottom": null,
       "display": null,
       "flex": null,
       "flex_flow": null,
       "grid_area": null,
       "grid_auto_columns": null,
       "grid_auto_flow": null,
       "grid_auto_rows": null,
       "grid_column": null,
       "grid_gap": null,
       "grid_row": null,
       "grid_template_areas": null,
       "grid_template_columns": null,
       "grid_template_rows": null,
       "height": null,
       "justify_content": null,
       "justify_items": null,
       "left": null,
       "margin": null,
       "max_height": null,
       "max_width": null,
       "min_height": null,
       "min_width": null,
       "object_fit": null,
       "object_position": null,
       "order": null,
       "overflow": null,
       "overflow_x": null,
       "overflow_y": null,
       "padding": null,
       "right": null,
       "top": null,
       "visibility": null,
       "width": null
      }
     }
    },
    "version_major": 2,
    "version_minor": 0
   }
  }
 },
 "nbformat": 4,
 "nbformat_minor": 5
}
